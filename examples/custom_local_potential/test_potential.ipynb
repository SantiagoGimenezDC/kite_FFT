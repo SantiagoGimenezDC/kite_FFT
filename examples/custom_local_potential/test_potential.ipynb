{
 "cells": [
  {
   "cell_type": "markdown",
   "id": "2a2a7bd0-ee12-413e-a057-581ccf64834e",
   "metadata": {},
   "source": [
    "# Test potential\n",
    "\n",
    "This is a short script to quickly test the local custom potential features in KITE"
   ]
  },
  {
   "cell_type": "code",
   "execution_count": 1,
   "id": "89be02f8-9087-4877-9a02-b9401c8db92a",
   "metadata": {},
   "outputs": [],
   "source": [
    "import numpy as np\n",
    "import matplotlib.pyplot as plt\n",
    "from matplotlib import cm\n",
    "import os\n",
    "import sys"
   ]
  },
  {
   "cell_type": "code",
   "execution_count": 2,
   "id": "036ba89b-8b67-411f-b7f5-d48112b2c4e1",
   "metadata": {},
   "outputs": [
    {
     "name": "stdout",
     "output_type": "stream",
     "text": [
      "[NbConvertApp] Converting notebook test_potential.ipynb to script\n",
      "[NbConvertApp] Writing 1737 bytes to test_potential.py\n"
     ]
    }
   ],
   "source": [
    "# Check if running inside a jupyter notebook\n",
    "if 'ipykernel' in sys.modules:\n",
    "    !jupyter-nbconvert --to script test_potential.ipynb "
   ]
  },
  {
   "cell_type": "code",
   "execution_count": 3,
   "id": "fdf832f6-7ecc-4643-93d8-810fd5ed96f0",
   "metadata": {},
   "outputs": [
    {
     "name": "stdout",
     "output_type": "stream",
     "text": [
      "Number of orbitals: 0\n"
     ]
    }
   ],
   "source": [
    "# Info about the files\n",
    "DIM = 2 # dimension\n",
    "\n",
    "# Find all the potential files\n",
    "files = os.listdir()\n",
    "pots = []\n",
    "for filename in files:\n",
    "    if \"local_potential\" in filename:\n",
    "        pots.append(filename)\n",
    "        \n",
    "# Extract the data from the files\n",
    "data = {}\n",
    "for pot in pots:\n",
    "    print(\"Extracting from:\", pot)\n",
    "    \n",
    "    with open(pot, 'r') as f:\n",
    "        dat = f.readlines()        \n",
    "        \n",
    "        for line in dat:\n",
    "            # orb = line[DIM]\n",
    "            x,y,orb,V = line[:-1].split(\" \")\n",
    "                \n",
    "            x = float(x)\n",
    "            y = float(y)\n",
    "            orb = int(orb)\n",
    "            V = float(V)      \n",
    "            \n",
    "            if orb not in data.keys():\n",
    "                data[orb] = []\n",
    "            else:\n",
    "                data[orb].append([x,y,V])\n",
    "    \n",
    "# Number of orbitals\n",
    "Norbs = len(data.keys())\n",
    "print(\"Number of orbitals:\", Norbs)\n",
    "\n",
    "for key in data.keys():\n",
    "    data[key] = np.array(data[key])"
   ]
  },
  {
   "cell_type": "code",
   "execution_count": null,
   "id": "e636484f-3d71-44a1-8187-10b4361b8407",
   "metadata": {},
   "outputs": [],
   "source": [
    "# Represent the potential for each orbital\n",
    "for o in range(Norbs):\n",
    "    x = data[o][:,0]\n",
    "    y = data[o][:,1]\n",
    "    V = data[o][:,2]\n",
    "\n",
    "    fig, axs = plt.subplots(1,1,figsize=(10,8))\n",
    "    axs.set_title(\"Local potential at orbital \" + str(o), fontsize=20)\n",
    "    scat = axs.scatter(x,y,c = V, cmap=\"Spectral\", s=0.5)\n",
    "    plt.colorbar(scat)\n",
    "    plt.show()"
   ]
  },
  {
   "cell_type": "code",
   "execution_count": null,
   "id": "508dc8af-b3a9-4c80-9f91-040be6b3034f",
   "metadata": {},
   "outputs": [],
   "source": []
  },
  {
   "cell_type": "code",
   "execution_count": null,
   "id": "156a0c66-fdce-471c-8e89-04653b77916a",
   "metadata": {},
   "outputs": [],
   "source": []
  },
  {
   "cell_type": "code",
   "execution_count": null,
   "id": "1b4cbd75-e8e9-474a-9ccf-029faf09724b",
   "metadata": {},
   "outputs": [],
   "source": []
  }
 ],
 "metadata": {
  "kernelspec": {
   "display_name": "Python 3 (ipykernel)",
   "language": "python",
   "name": "python3"
  },
  "language_info": {
   "codemirror_mode": {
    "name": "ipython",
    "version": 3
   },
   "file_extension": ".py",
   "mimetype": "text/x-python",
   "name": "python",
   "nbconvert_exporter": "python",
   "pygments_lexer": "ipython3",
   "version": "3.9.7"
  }
 },
 "nbformat": 4,
 "nbformat_minor": 5
}
